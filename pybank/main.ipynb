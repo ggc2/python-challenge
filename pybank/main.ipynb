{
 "cells": [
  {
   "cell_type": "code",
   "execution_count": 75,
   "id": "0de3da89-040a-4ac6-9ff9-bd798b66cb95",
   "metadata": {},
   "outputs": [
    {
     "name": "stdout",
     "output_type": "stream",
     "text": [
      "Financial Analysis\n",
      "------------------------------\n",
      "Total Months: 86\n",
      "Total: $ 671099\n",
      "Average Change $ 7803.48\n",
      "Greatest increase in Profits: Feb-12 $ 1170593\n",
      "Greatest decrease in Profits: Sep-13 $ -1196225\n"
     ]
    }
   ],
   "source": [
    "months = { \"Jan-10\" : 867884,\n",
    "          \"Feb-10\" : 984655, \"Mar-10\" : 322013, \" Apr-10\": -69417,\"May-10\" : 310503,\n",
    "          \"Jun-10\" : 522857, \"Jul-10\" : 1033096, \"Aug-10\" : 604885,\n",
    "          \"Sep-10\" : -216386, \"Oct-10\" : 477532, \"Nov-10\" : 893810,\n",
    "          \"Dec-10\" : -80353, \"Jan-11\" : 779806,\n",
    "          \"Feb-11\" : -335203, \"Mar-11\": 697845, \"Apr-11\" : 793163,\n",
    "          \"May-11\" : 485070, \"Jun-11\" :584122, \"Jul-11\" : 62729,\n",
    "          \"Aug-11\" : 668179, \"Sep-11\" : 899906, \"Oct-11\" : 834719,\n",
    "          \"Nov-11\" : 132003, \"Dec-11\" : 309978, \"Jan-12\" : -755566,\n",
    "          \"Feb-12\" : 1170593, \"Mar-12\" : 252788, \"Apr-12\" : 1151518,\n",
    "          \"May-12\" : 817256, \"Jun-12\" : 570757, \"Jul-12\" : 506702,\n",
    "          \"Aug-12\" : -1022534, \"Sep-12\" : 475062, \"Oct-12\" : 779976,\n",
    "          \"Nov-12\" : 144175, \"Dec-12\" : 542494, \"Jan-13\" : 359333, \"Feb-13\" : 321469,\n",
    "          \"Mar-13\" : 67780, \"Apr-13\" : 471435, \"May-13\" : 565603, \"Jun-13\" : 872480,\n",
    "          \"Jul-13\" : 789480, \"Aug-13\" : 999942, \"Sep-13\" : -1196225, \"Oct-13\" : 268997, \"Nov-13\" : -687986,\n",
    "          \"Dec-13\" : 1150461,\"Jan-14\" : 682458, \"Feb-14\" : 617856, \"Mar-14\" : 824098, \"Apr-14\" : 581943, \" May-14\" : 132864,\n",
    "          \"Jun-14\" : 448062, \"Jul-14\" : 689161, \"Aug-14\": 800701, \n",
    "          \"Sep-14\" : 1166643, \"Oct-14\" : 947333, \"Nov-14\" : 578668, \"Dec-14\" : 988505, \"Jan-15\" : 1139715, \"Feb-15\" : 1029471, \"Mar-15\" : 687533,\n",
    "          \"Apr-15\" : -524626, \"May-15\" : 158620, \"Jun-15\" : 87795, \"Jul-15\" : 423389, \"Aug-15\" : 840723, \"Sep-15\" : 568529,\n",
    "          \"Oct-15\" : 332067, \"Nov-15\" : 989499, \"Dec-15\" : 778237, \"Jan-16\" : 650000, \"Feb-16\" : -1100387, \"Mar-16\" : -174946, \"Apr-16\" : 757143,\n",
    "          \"May-16\" : 445709, \"Jun-16\" : 712961, \"Jul-16\" : -1163797, \"Aug-16\" : 569899, \"Sep-16\" : 768450, \"Oct-16\" : 102685,\n",
    "          \"Nov-16\" : 795914, \"Dec-16\" : 60988, \"Jan-17\" : 138230, \"Feb-17\" : 671099,\n",
    "         }\n",
    "\n",
    "months_count = 0 \n",
    "total_money = 0\n",
    "average_change = 0 \n",
    "\n",
    "max_val = \"\"\n",
    "max_inc = 0\n",
    "\n",
    "min_val = \"\"\n",
    "min_dec = 0\n",
    "\n",
    "\n",
    "print(\"Financial Analysis\")\n",
    "print(\"---\" * 10)\n",
    "\n",
    "for month , amount in months.items():\n",
    "\n",
    "    total_money += int(amount)\n",
    "    months_count += 1 \n",
    "    if min_dec == 0:\n",
    "        min_dec = amount\n",
    "        min_val = month\n",
    "    elif amount < min_dec:\n",
    "        min_dec = amount \n",
    "        min_val = month \n",
    "    \n",
    "    if amount > max_inc:\n",
    "        max_inc = amount\n",
    "        max_val = month \n",
    "average =  round(amount / months_count, 2)\n",
    "        \n",
    "print(f\"Total Months:\", months_count)\n",
    "print(f\"Total: $\", amount)\n",
    "print(f\"Average Change $\",average)\n",
    "print(f\"Greatest increase in Profits:\", max_val, \"$\",max_inc)\n",
    "print(f\"Greatest decrease in Profits:\", min_val, \"$\",min_dec)"
   ]
  },
  {
   "cell_type": "code",
   "execution_count": null,
   "id": "c32bf7d4-56f7-476e-97fb-a5b543759ce1",
   "metadata": {},
   "outputs": [],
   "source": []
  }
 ],
 "metadata": {
  "kernelspec": {
   "display_name": "Python 3 (ipykernel)",
   "language": "python",
   "name": "python3"
  },
  "language_info": {
   "codemirror_mode": {
    "name": "ipython",
    "version": 3
   },
   "file_extension": ".py",
   "mimetype": "text/x-python",
   "name": "python",
   "nbconvert_exporter": "python",
   "pygments_lexer": "ipython3",
   "version": "3.7.15"
  }
 },
 "nbformat": 4,
 "nbformat_minor": 5
}
